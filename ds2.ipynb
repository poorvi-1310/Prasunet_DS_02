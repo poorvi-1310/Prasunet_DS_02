{
 "cells": [
  {
   "cell_type": "code",
   "execution_count": 3,
   "metadata": {},
   "outputs": [
    {
     "name": "stdout",
     "output_type": "stream",
     "text": [
      "   PassengerId  Survived  Pclass  \\\n",
      "0            1         0       3   \n",
      "1            2         1       1   \n",
      "2            3         1       3   \n",
      "3            4         1       1   \n",
      "4            5         0       3   \n",
      "\n",
      "                                                Name     Sex   Age  SibSp  \\\n",
      "0                            Braund, Mr. Owen Harris    male  22.0      1   \n",
      "1  Cumings, Mrs. John Bradley (Florence Briggs Th...  female  38.0      1   \n",
      "2                             Heikkinen, Miss. Laina  female  26.0      0   \n",
      "3       Futrelle, Mrs. Jacques Heath (Lily May Peel)  female  35.0      1   \n",
      "4                           Allen, Mr. William Henry    male  35.0      0   \n",
      "\n",
      "   Parch            Ticket     Fare Cabin Embarked  \n",
      "0      0         A/5 21171   7.2500   NaN        S  \n",
      "1      0          PC 17599  71.2833   C85        C  \n",
      "2      0  STON/O2. 3101282   7.9250   NaN        S  \n",
      "3      0            113803  53.1000  C123        S  \n",
      "4      0            373450   8.0500   NaN        S  \n"
     ]
    }
   ],
   "source": [
    "import pandas as pd\n",
    "import numpy as np\n",
    "import matplotlib.pyplot as plt\n",
    "import seaborn as sns\n",
    "df=pd.read_csv('C:/Users/Poorvi/OneDrive/Desktop/Titanic-Dataset.csv')\n",
    "\n",
    "print(df.head()) "
   ]
  },
  {
   "cell_type": "code",
   "execution_count": 5,
   "metadata": {},
   "outputs": [
    {
     "name": "stdout",
     "output_type": "stream",
     "text": [
      "(891, 12)\n",
      "<class 'pandas.core.frame.DataFrame'>\n",
      "RangeIndex: 891 entries, 0 to 890\n",
      "Data columns (total 12 columns):\n",
      " #   Column       Non-Null Count  Dtype  \n",
      "---  ------       --------------  -----  \n",
      " 0   PassengerId  891 non-null    int64  \n",
      " 1   Survived     891 non-null    int64  \n",
      " 2   Pclass       891 non-null    int64  \n",
      " 3   Name         891 non-null    object \n",
      " 4   Sex          891 non-null    object \n",
      " 5   Age          714 non-null    float64\n",
      " 6   SibSp        891 non-null    int64  \n",
      " 7   Parch        891 non-null    int64  \n",
      " 8   Ticket       891 non-null    object \n",
      " 9   Fare         891 non-null    float64\n",
      " 10  Cabin        204 non-null    object \n",
      " 11  Embarked     889 non-null    object \n",
      "dtypes: float64(2), int64(5), object(5)\n",
      "memory usage: 83.7+ KB\n",
      "None\n"
     ]
    }
   ],
   "source": [
    "print(df.shape)\n",
    "print(df.info())\n"
   ]
  },
  {
   "cell_type": "code",
   "execution_count": 6,
   "metadata": {},
   "outputs": [
    {
     "name": "stdout",
     "output_type": "stream",
     "text": [
      "PassengerId      0\n",
      "Survived         0\n",
      "Pclass           0\n",
      "Name             0\n",
      "Sex              0\n",
      "Age            177\n",
      "SibSp            0\n",
      "Parch            0\n",
      "Ticket           0\n",
      "Fare             0\n",
      "Cabin          687\n",
      "Embarked         2\n",
      "dtype: int64\n"
     ]
    }
   ],
   "source": [
    "print(df.isnull().sum())"
   ]
  },
  {
   "cell_type": "markdown",
   "metadata": {},
   "source": [
    "It is observed that we have missing values in the columns: Age, Cabin, Embarked. Missing values of Cabin will not be fixed since it won’t have much bearing on the analysis. \n",
    "Missing values of Embarked and Age will be fixed now."
   ]
  },
  {
   "cell_type": "code",
   "execution_count": 7,
   "metadata": {},
   "outputs": [
    {
     "name": "stdout",
     "output_type": "stream",
     "text": [
      "2\n"
     ]
    }
   ],
   "source": [
    "port=df.Embarked.mode()\n",
    "df.Embarked.fillna(value=port,inplace=True)\n",
    "print(df.Embarked.isnull().sum())"
   ]
  },
  {
   "cell_type": "code",
   "execution_count": 8,
   "metadata": {},
   "outputs": [],
   "source": [
    "mean_age=df.Age.mean()\n",
    "df.Age.fillna(value=mean_age,inplace=True)"
   ]
  },
  {
   "cell_type": "markdown",
   "metadata": {},
   "source": [
    "Data Analysis!!"
   ]
  },
  {
   "cell_type": "code",
   "execution_count": 9,
   "metadata": {},
   "outputs": [
    {
     "name": "stdout",
     "output_type": "stream",
     "text": [
      "        Survived  Total  Percentage\n",
      "Pclass                             \n",
      "1            136    216   62.962963\n",
      "2             87    184   47.282609\n",
      "3            119    491   24.236253\n"
     ]
    }
   ],
   "source": [
    "sclass = df.groupby(['Pclass']).agg({'Survived': 'sum'})\n",
    "tclass = df.groupby(['Pclass']).agg({'Pclass': 'count'})\n",
    "tclass.rename(columns = {'Pclass':'Total'}, inplace = True)\n",
    "df2 = pd.merge(sclass, tclass, left_index = True, right_index = True)\n",
    "percent = (df2['Survived'] / df2['Total']) * 100\n",
    "df2['Percentage'] = percent\n",
    "print(df2)\n"
   ]
  },
  {
   "cell_type": "markdown",
   "metadata": {},
   "source": [
    "Conclusion:\n",
    "As can be seen from the dataframe table - 1st Class passengers had highest rate of survival, then 2nd class passengers, and the least survival rates was of 3rd class passengers. A large number of passengers were travelling in 3rd class (491), but only 24.23% survived."
   ]
  },
  {
   "cell_type": "code",
   "execution_count": 10,
   "metadata": {},
   "outputs": [
    {
     "name": "stdout",
     "output_type": "stream",
     "text": [
      "        Survived  Total  Percentage\n",
      "Sex                                \n",
      "female       233    314   74.203822\n",
      "male         109    577   18.890815\n"
     ]
    }
   ],
   "source": [
    "survived = df.groupby(['Sex']).agg({'Survived': 'sum'})\n",
    "total = df.groupby(['Sex']).agg({'Survived': 'size'})\n",
    "total.rename(columns = {'Survived':'Total'}, inplace = True)\n",
    "df2 = pd.merge(survived, total, left_index = True, right_index = True)\n",
    "percent = (df2['Survived'] / df2['Total']) * 100\n",
    "df2['Percentage'] = percent\n",
    "print(df2)\n"
   ]
  },
  {
   "cell_type": "markdown",
   "metadata": {},
   "source": [
    "Conclusion:\n",
    "From the percentage of survival from the dataframe above - we can see that females had very high rate of survival. Female survial rate was 74.2%, and male survival rate was 18.9% - so female survival rate was about 4 times that of males.\n",
    "It can be concluded that females were given preference in rescue operations, and males must have sacrificed themselves to let the females survive."
   ]
  },
  {
   "cell_type": "code",
   "execution_count": 11,
   "metadata": {},
   "outputs": [
    {
     "name": "stderr",
     "output_type": "stream",
     "text": [
      "C:\\Users\\Poorvi\\AppData\\Local\\Temp\\ipykernel_15524\\2604290393.py:4: FutureWarning: The default of observed=False is deprecated and will be changed to True in a future version of pandas. Pass observed=False to retain current behavior or observed=True to adopt the future default and silence this warning.\n",
      "  df2 = df.groupby(['AgeGroup']).agg({'Survived': 'mean'})\n"
     ]
    },
    {
     "name": "stdout",
     "output_type": "stream",
     "text": [
      "Survival rate by age group: \n",
      "           Survived\n",
      "AgeGroup          \n",
      "0-18      0.503597\n",
      "19-35     0.353271\n",
      "36-50     0.398693\n",
      "51+       0.343750\n"
     ]
    }
   ],
   "source": [
    "bins = [0, 18, 35, 50, 100]\n",
    "label = ['0-18', '19-35', '36-50', '51+']\n",
    "df['AgeGroup'] = pd.cut(df['Age'], bins = bins, labels = label)\n",
    "df2 = df.groupby(['AgeGroup']).agg({'Survived': 'mean'})\n",
    "print(\"Survival rate by age group: \\n\", df2)\n"
   ]
  },
  {
   "cell_type": "markdown",
   "metadata": {},
   "source": [
    "0-18 Age Group: Highest survival rate (approximately 50.36% survival)\n",
    "19-35 Age Group: Around 35.6% survival\n",
    "36-50 Age Group: Approximately 39.8% survival\n",
    "51+ Age Group: Lowest survival rate (approximately 34% survival)\n",
    "Conclusion:\n",
    "Young passengers (0-18) had the highest chance of survival among the age groups analyzed. Generally, there is a trend of decreasing survival rates with increasing age.\n"
   ]
  },
  {
   "cell_type": "code",
   "execution_count": 12,
   "metadata": {},
   "outputs": [
    {
     "name": "stdout",
     "output_type": "stream",
     "text": [
      "Survival Rate by Traveling With Others:\n",
      "                      Survived\n",
      "TravelingWithOthers          \n",
      "0                    0.303538\n",
      "1                    0.505650\n"
     ]
    }
   ],
   "source": [
    "df['FamilySize'] = df['SibSp'] + df['Parch']\n",
    "df['TravelingWithOthers'] = (df['FamilySize'] > 0).astype(int)\n",
    "survived = df.groupby(['TravelingWithOthers']).agg({'Survived': 'mean'})\n",
    "print(\"Survival Rate by Traveling With Others:\\n\", survived)\n"
   ]
  },
  {
   "cell_type": "markdown",
   "metadata": {},
   "source": [
    "\n",
    "•\tSurvival Rate for passengers traveling alone \n",
    "(TravelingWithOthers = 0): 30.35%\n",
    "•\tSurvival Rate for passengers traveling with others (TravelingWithOthers = 1): 50.57%\n",
    "Conclusion:\n",
    "The higher survival rate for passengers traveling with others (TravelingWithOthers = 1) suggests that, individuals who were part of a family group (traveled with others) had a higher likelihood of survival compared to those who were traveling alone.\n"
   ]
  },
  {
   "cell_type": "code",
   "execution_count": 13,
   "metadata": {},
   "outputs": [
    {
     "name": "stdout",
     "output_type": "stream",
     "text": [
      "Male and Female Survival per Class:\n",
      "         Survived          \n",
      "Sex       female      male\n",
      "Pclass                    \n",
      "1       0.968085  0.368852\n",
      "2       0.921053  0.157407\n",
      "3       0.500000  0.135447\n"
     ]
    }
   ],
   "source": [
    "survival = df.groupby(['Pclass', 'Sex']).agg({'Survived': 'mean'}).unstack()\n",
    "print(\"Male and Female Survival per Class:\\n\", survival)"
   ]
  },
  {
   "cell_type": "markdown",
   "metadata": {},
   "source": [
    "Conclusion:\n",
    "We can conclude that female passengers generally had higher survival rates across all classes compared to males. Additionally, the survival rates tend to decrease with lower passenger class."
   ]
  },
  {
   "cell_type": "code",
   "execution_count": 14,
   "metadata": {},
   "outputs": [
    {
     "name": "stdout",
     "output_type": "stream",
     "text": [
      "          Survived\n",
      "Embarked          \n",
      "C         0.553571\n",
      "Q         0.389610\n",
      "S         0.336957\n"
     ]
    }
   ],
   "source": [
    "survival_rate = df.groupby(['Embarked']).agg({'Survived': 'mean'})\n",
    "print(survival_rate)"
   ]
  },
  {
   "cell_type": "markdown",
   "metadata": {},
   "source": [
    "Conclusion:\n",
    "There seems to be a correlation between the port of embarkation and the likelihood of survival, with passengers from Cherbourg having the highest survival rate."
   ]
  },
  {
   "cell_type": "code",
   "execution_count": 15,
   "metadata": {},
   "outputs": [
    {
     "name": "stdout",
     "output_type": "stream",
     "text": [
      "Survival Rate by Having a Recorded Cabin:\n",
      "\n",
      "          Survived\n",
      "HasCabin          \n",
      "False     0.299854\n",
      "True      0.666667\n"
     ]
    }
   ],
   "source": [
    "df['HasCabin'] = df['Cabin'].notna()\n",
    "survival_rate = df.groupby('HasCabin').agg({'Survived': 'mean'})\n",
    "print(\"Survival Rate by Having a Recorded Cabin:\\n\")\n",
    "print(survival_rate)"
   ]
  },
  {
   "cell_type": "markdown",
   "metadata": {},
   "source": [
    "Conclusion:\n",
    "Passengers with a recorded cabin (HasCabin=True) had a much higher survival rate (66.67%) compared to those without a recorded cabin (HasCabin=False, 29.99%)\n",
    "here appears to be a significant correlation between having a recorded cabin and a higher likelihood of survival.\n",
    "Passengers with recorded cabins had approximately twice the survival rate compared to those without recorded cabins.\n"
   ]
  },
  {
   "cell_type": "code",
   "execution_count": 16,
   "metadata": {},
   "outputs": [
    {
     "name": "stdout",
     "output_type": "stream",
     "text": [
      "Survival Rate by Sex and Age Group:\n",
      "           Survived          \n",
      "Sex         female      male\n",
      "AgeGroup                    \n",
      "0-18      0.676471  0.338028\n",
      "19-35     0.751445  0.162983\n",
      "36-50     0.732143  0.206186\n",
      "51+       0.941176  0.127660\n"
     ]
    },
    {
     "name": "stderr",
     "output_type": "stream",
     "text": [
      "C:\\Users\\Poorvi\\AppData\\Local\\Temp\\ipykernel_15524\\2957266560.py:4: FutureWarning: The default of observed=False is deprecated and will be changed to True in a future version of pandas. Pass observed=False to retain current behavior or observed=True to adopt the future default and silence this warning.\n",
      "  df2 = df.groupby(['AgeGroup','Sex']).agg({'Survived': 'mean'}).unstack()\n"
     ]
    }
   ],
   "source": [
    "bins = [0, 18, 35, 50, 100]\n",
    "label = ['0-18', '19-35', '36-50', '51+']\n",
    "df['AgeGroup'] = pd.cut(df['Age'], bins = bins, labels = label)\n",
    "df2 = df.groupby(['AgeGroup','Sex']).agg({'Survived': 'mean'}).unstack()\n",
    "print(\"Survival Rate by Sex and Age Group:\\n\", df2)"
   ]
  },
  {
   "cell_type": "markdown",
   "metadata": {},
   "source": [
    "Conclusion:\n",
    "There is a clear trend of higher survival rates for females compared to males across different age groups.\n",
    "Males generally had lower survival rates, with the lowest rate in the 51+ age group."
   ]
  },
  {
   "cell_type": "code",
   "execution_count": 17,
   "metadata": {},
   "outputs": [
    {
     "name": "stderr",
     "output_type": "stream",
     "text": [
      "C:\\Users\\Poorvi\\AppData\\Local\\Temp\\ipykernel_15524\\1086539344.py:4: FutureWarning: The default of observed=False is deprecated and will be changed to True in a future version of pandas. Pass observed=False to retain current behavior or observed=True to adopt the future default and silence this warning.\n",
      "  survival = df.groupby(['AgeGroup','Sex']).agg({'Survived': 'mean'}).unstack()\n"
     ]
    },
    {
     "data": {
      "image/png": "[encoded data removed]",
      "text/plain": [
       "<Figure size 640x480 with 1 Axes>"
      ]
     },
     "metadata": {},
     "output_type": "display_data"
    }
   ],
   "source": [
    "bins = [0, 18, 35, 50, 100]\n",
    "label = ['0-18', '19-35', '36-50', '51+']\n",
    "df['AgeGroup'] = pd.cut(df['Age'], bins = bins, labels = label,right=False)\n",
    "survival = df.groupby(['AgeGroup','Sex']).agg({'Survived': 'mean'}).unstack()\n",
    "survival.plot(kind='bar', color=['lightblue', 'lightpink'])\n",
    "plt.xlabel('Age Group')\n",
    "plt.ylabel('Survival Rate')\n",
    "plt.title('Survival Rate for Males and Females in Different Age Groups')\n",
    "plt.legend(title='Sex', loc='upper left', labels=['Female', 'Male'])\n",
    "plt.show()"
   ]
  },
  {
   "cell_type": "markdown",
   "metadata": {},
   "source": [
    "Conclusion:\n",
    "There is a clear trend of higher survival rates for females compared to males across different age groups."
   ]
  },
  {
   "cell_type": "code",
   "execution_count": 18,
   "metadata": {},
   "outputs": [
    {
     "name": "stdout",
     "output_type": "stream",
     "text": [
      "        Survived\n",
      "Pclass          \n",
      "1            136\n",
      "2             87\n",
      "3            119\n"
     ]
    },
    {
     "data": {
      "image/png": "[encoded data removed]",
      "text/plain": [
       "<Figure size 640x480 with 1 Axes>"
      ]
     },
     "metadata": {},
     "output_type": "display_data"
    }
   ],
   "source": [
    "df2=df[df['Survived']==1]\n",
    "survival_class=df2.groupby(df2['Pclass']).agg({'Survived':'count'})\n",
    "print(survival_class)\n",
    "plt.pie(survival_class['Survived'],labels=['class1','class2','class3'],colors=['lightgreen', 'lightblue', 'lightcoral'])\n",
    "plt.title('Distribution of Survivors Across Classes')\n",
    "plt.show()"
   ]
  },
  {
   "cell_type": "markdown",
   "metadata": {},
   "source": [
    "Conclusion:\n",
    "This graph indicates that there were more survivors in the first class compared to the second and third classes."
   ]
  }
 ],
 "metadata": {
  "kernelspec": {
   "display_name": "Python 3",
   "language": "python",
   "name": "python3"
  },
  "language_info": {
   "codemirror_mode": {
    "name": "ipython",
    "version": 3
   },
   "file_extension": ".py",
   "mimetype": "text/x-python",
   "name": "python",
   "nbconvert_exporter": "python",
   "pygments_lexer": "ipython3",
   "version": "3.11.1"
  }
 },
 "nbformat": 4,
 "nbformat_minor": 2
}
